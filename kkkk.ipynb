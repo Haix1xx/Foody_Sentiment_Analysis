{
 "cells": [
  {
   "cell_type": "code",
   "execution_count": 4,
   "metadata": {},
   "outputs": [],
   "source": [
    "import pandas as pd\n",
    "import seaborn as sns"
   ]
  },
  {
   "cell_type": "code",
   "execution_count": 45,
   "metadata": {},
   "outputs": [],
   "source": [
    "df = pd.read_csv('big_data.csv')\n",
    "# df.groupby(df.columns.tolist(), as_index=False).size().sum(axis='index')"
   ]
  },
  {
   "cell_type": "code",
   "execution_count": 57,
   "metadata": {},
   "outputs": [],
   "source": [
    "df['Label'] = df['Point'].apply(lambda point: 0 if point >= 6  else 1)"
   ]
  },
  {
   "cell_type": "code",
   "execution_count": 47,
   "metadata": {},
   "outputs": [],
   "source": [
    "neg = df[df['Label'] == 1]\n",
    "pos = df[df['Label'] == 0]"
   ]
  },
  {
   "cell_type": "code",
   "execution_count": 48,
   "metadata": {},
   "outputs": [
    {
     "name": "stdout",
     "output_type": "stream",
     "text": [
      "3801\n",
      "12795\n"
     ]
    }
   ],
   "source": [
    "print(len(neg))\n",
    "print(len(pos))"
   ]
  },
  {
   "cell_type": "code",
   "execution_count": 54,
   "metadata": {},
   "outputs": [],
   "source": [
    "pos = pos.head(610)\n",
    "neg = neg.head(420)"
   ]
  },
  {
   "cell_type": "code",
   "execution_count": 55,
   "metadata": {},
   "outputs": [
    {
     "name": "stdout",
     "output_type": "stream",
     "text": [
      "420\n",
      "610\n",
      "1030\n"
     ]
    }
   ],
   "source": [
    "print(len(neg))\n",
    "print(len(pos))\n",
    "print(len(neg) + len(pos))"
   ]
  },
  {
   "cell_type": "code",
   "execution_count": 56,
   "metadata": {},
   "outputs": [],
   "source": [
    "big_data = pd.concat([pos, neg])\n",
    "big_data = big_data.sample(frac=1, random_state=0).reset_index(drop=True)\n",
    "big_data = big_data.drop('Label', axis=1)\n",
    "big_data.to_csv('small_data.csv', index=False)"
   ]
  },
  {
   "cell_type": "code",
   "execution_count": 52,
   "metadata": {},
   "outputs": [
    {
     "data": {
      "text/html": [
       "<div>\n",
       "<style scoped>\n",
       "    .dataframe tbody tr th:only-of-type {\n",
       "        vertical-align: middle;\n",
       "    }\n",
       "\n",
       "    .dataframe tbody tr th {\n",
       "        vertical-align: top;\n",
       "    }\n",
       "\n",
       "    .dataframe thead th {\n",
       "        text-align: right;\n",
       "    }\n",
       "</style>\n",
       "<table border=\"1\" class=\"dataframe\">\n",
       "  <thead>\n",
       "    <tr style=\"text-align: right;\">\n",
       "      <th></th>\n",
       "      <th>Review</th>\n",
       "      <th>Point</th>\n",
       "    </tr>\n",
       "  </thead>\n",
       "  <tbody>\n",
       "    <tr>\n",
       "      <th>0</th>\n",
       "      <td>Đồ ăn ơr đây khá ngon. Nói chung ngon và rẻ hơ...</td>\n",
       "      <td>7.8</td>\n",
       "    </tr>\n",
       "    <tr>\n",
       "      <th>1</th>\n",
       "      <td>Mình đặt một phần gỏi đu đủ vs Pad Thái của qu...</td>\n",
       "      <td>8.0</td>\n",
       "    </tr>\n",
       "    <tr>\n",
       "      <th>2</th>\n",
       "      <td>Mấy hình này hồi còn là fan nên đi ăn suốt thô...</td>\n",
       "      <td>7.0</td>\n",
       "    </tr>\n",
       "    <tr>\n",
       "      <th>3</th>\n",
       "      <td>Hôm nay đổi gió k ăn mì quảng nữa vì bình thườ...</td>\n",
       "      <td>7.8</td>\n",
       "    </tr>\n",
       "    <tr>\n",
       "      <th>4</th>\n",
       "      <td>Lâu rồi mới ghé lại kin kin, ăn từ hồi quán ở ...</td>\n",
       "      <td>8.0</td>\n",
       "    </tr>\n",
       "    <tr>\n",
       "      <th>...</th>\n",
       "      <td>...</td>\n",
       "      <td>...</td>\n",
       "    </tr>\n",
       "    <tr>\n",
       "      <th>1025</th>\n",
       "      <td>đến quán vào một ngày mưa to, không gian xinh ...</td>\n",
       "      <td>7.6</td>\n",
       "    </tr>\n",
       "    <tr>\n",
       "      <th>1026</th>\n",
       "      <td>Quán Thái rẻ nhất tôi từng biết 😂\\r\\nBiết đến ...</td>\n",
       "      <td>10.0</td>\n",
       "    </tr>\n",
       "    <tr>\n",
       "      <th>1027</th>\n",
       "      <td>Hôm nay đến quán với tình trạng bụng đói meo. ...</td>\n",
       "      <td>8.4</td>\n",
       "    </tr>\n",
       "    <tr>\n",
       "      <th>1028</th>\n",
       "      <td>Nghe tiếng nên cũng chạy lên kiếm miếng :))\\r\\...</td>\n",
       "      <td>7.0</td>\n",
       "    </tr>\n",
       "    <tr>\n",
       "      <th>1029</th>\n",
       "      <td>Tự nhiên thèm cháo ếch nên ghé qua đây ăn luôn...</td>\n",
       "      <td>8.0</td>\n",
       "    </tr>\n",
       "  </tbody>\n",
       "</table>\n",
       "<p>1030 rows × 2 columns</p>\n",
       "</div>"
      ],
      "text/plain": [
       "                                                 Review  Point\n",
       "0     Đồ ăn ơr đây khá ngon. Nói chung ngon và rẻ hơ...    7.8\n",
       "1     Mình đặt một phần gỏi đu đủ vs Pad Thái của qu...    8.0\n",
       "2     Mấy hình này hồi còn là fan nên đi ăn suốt thô...    7.0\n",
       "3     Hôm nay đổi gió k ăn mì quảng nữa vì bình thườ...    7.8\n",
       "4     Lâu rồi mới ghé lại kin kin, ăn từ hồi quán ở ...    8.0\n",
       "...                                                 ...    ...\n",
       "1025  đến quán vào một ngày mưa to, không gian xinh ...    7.6\n",
       "1026  Quán Thái rẻ nhất tôi từng biết 😂\\r\\nBiết đến ...   10.0\n",
       "1027  Hôm nay đến quán với tình trạng bụng đói meo. ...    8.4\n",
       "1028  Nghe tiếng nên cũng chạy lên kiếm miếng :))\\r\\...    7.0\n",
       "1029  Tự nhiên thèm cháo ếch nên ghé qua đây ăn luôn...    8.0\n",
       "\n",
       "[1030 rows x 2 columns]"
      ]
     },
     "execution_count": 52,
     "metadata": {},
     "output_type": "execute_result"
    }
   ],
   "source": [
    "dt = pd.read_csv('small_data.csv')\n",
    "dt"
   ]
  },
  {
   "cell_type": "code",
   "execution_count": 53,
   "metadata": {},
   "outputs": [
    {
     "name": "stdout",
     "output_type": "stream",
     "text": [
      "1030\n"
     ]
    }
   ],
   "source": [
    "print(len(dt[dt['Point'] >= 6]))"
   ]
  }
 ],
 "metadata": {
  "kernelspec": {
   "display_name": ".venv",
   "language": "python",
   "name": "python3"
  },
  "language_info": {
   "codemirror_mode": {
    "name": "ipython",
    "version": 3
   },
   "file_extension": ".py",
   "mimetype": "text/x-python",
   "name": "python",
   "nbconvert_exporter": "python",
   "pygments_lexer": "ipython3",
   "version": "3.9.0"
  },
  "orig_nbformat": 4
 },
 "nbformat": 4,
 "nbformat_minor": 2
}
