{
 "cells": [
  {
   "cell_type": "code",
   "execution_count": 4,
   "metadata": {},
   "outputs": [],
   "source": [
    "import pandas as pd\n",
    "import seaborn as sns"
   ]
  },
  {
   "cell_type": "code",
   "execution_count": 58,
   "metadata": {},
   "outputs": [],
   "source": [
    "df = pd.read_csv('big_data.csv')\n",
    "# df.groupby(df.columns.tolist(), as_index=False).size().sum(axis='index')"
   ]
  },
  {
   "cell_type": "code",
   "execution_count": 59,
   "metadata": {},
   "outputs": [],
   "source": [
    "df['Label'] = df['Point'].apply(lambda point: 0 if point >= 6  else 1)"
   ]
  },
  {
   "cell_type": "code",
   "execution_count": 60,
   "metadata": {},
   "outputs": [],
   "source": [
    "neg = df[df['Label'] == 1]\n",
    "pos = df[df['Label'] == 0]"
   ]
  },
  {
   "cell_type": "code",
   "execution_count": 61,
   "metadata": {},
   "outputs": [
    {
     "name": "stdout",
     "output_type": "stream",
     "text": [
      "3801\n",
      "6369\n"
     ]
    }
   ],
   "source": [
    "print(len(neg))\n",
    "print(len(pos))"
   ]
  },
  {
   "cell_type": "code",
   "execution_count": 62,
   "metadata": {},
   "outputs": [],
   "source": [
    "pos = pos.head(610)\n",
    "neg = neg.head(420)"
   ]
  },
  {
   "cell_type": "code",
   "execution_count": 63,
   "metadata": {},
   "outputs": [
    {
     "name": "stdout",
     "output_type": "stream",
     "text": [
      "420\n",
      "610\n",
      "1030\n"
     ]
    }
   ],
   "source": [
    "print(len(neg))\n",
    "print(len(pos))\n",
    "print(len(neg) + len(pos))"
   ]
  },
  {
   "cell_type": "code",
   "execution_count": 64,
   "metadata": {},
   "outputs": [],
   "source": [
    "big_data = pd.concat([pos, neg])\n",
    "big_data = big_data.sample(frac=1, random_state=0).reset_index(drop=True)\n",
    "big_data = big_data.drop('Label', axis=1)\n",
    "big_data.to_csv('small_data.csv', index=False)"
   ]
  },
  {
   "cell_type": "code",
   "execution_count": 65,
   "metadata": {},
   "outputs": [
    {
     "data": {
      "text/html": [
       "<div>\n",
       "<style scoped>\n",
       "    .dataframe tbody tr th:only-of-type {\n",
       "        vertical-align: middle;\n",
       "    }\n",
       "\n",
       "    .dataframe tbody tr th {\n",
       "        vertical-align: top;\n",
       "    }\n",
       "\n",
       "    .dataframe thead th {\n",
       "        text-align: right;\n",
       "    }\n",
       "</style>\n",
       "<table border=\"1\" class=\"dataframe\">\n",
       "  <thead>\n",
       "    <tr style=\"text-align: right;\">\n",
       "      <th></th>\n",
       "      <th>Review</th>\n",
       "      <th>Point</th>\n",
       "    </tr>\n",
       "  </thead>\n",
       "  <tbody>\n",
       "    <tr>\n",
       "      <th>0</th>\n",
       "      <td>Quán không gian không có địa điểm ăn tại chỗ, ...</td>\n",
       "      <td>4.4</td>\n",
       "    </tr>\n",
       "    <tr>\n",
       "      <th>1</th>\n",
       "      <td>mình có ord ở đây 2combo bánh mì tiêu đen + co...</td>\n",
       "      <td>2.0</td>\n",
       "    </tr>\n",
       "    <tr>\n",
       "      <th>2</th>\n",
       "      <td>Đặt mỳ gà v mỳ bò về ăn, mỳ quảng ăn đ...</td>\n",
       "      <td>7.6</td>\n",
       "    </tr>\n",
       "    <tr>\n",
       "      <th>3</th>\n",
       "      <td>Hôm bữa đi ăn 2 phần bún đậu có gọi thêm sữa c...</td>\n",
       "      <td>1.0</td>\n",
       "    </tr>\n",
       "    <tr>\n",
       "      <th>4</th>\n",
       "      <td>Ăn tô mì cay mà thảm cảnh thật . Mì tôm việt n...</td>\n",
       "      <td>5.0</td>\n",
       "    </tr>\n",
       "    <tr>\n",
       "      <th>...</th>\n",
       "      <td>...</td>\n",
       "      <td>...</td>\n",
       "    </tr>\n",
       "    <tr>\n",
       "      <th>1025</th>\n",
       "      <td>Nhân viên nhiệt tình, thân thiện, thức uống ng...</td>\n",
       "      <td>10.0</td>\n",
       "    </tr>\n",
       "    <tr>\n",
       "      <th>1026</th>\n",
       "      <td>lăng mạ, chửi khách hàng. tự ý lấy hình của kh...</td>\n",
       "      <td>1.0</td>\n",
       "    </tr>\n",
       "    <tr>\n",
       "      <th>1027</th>\n",
       "      <td>Dimsum không ngon, phục vụ ok. Giá cả chưa thậ...</td>\n",
       "      <td>4.8</td>\n",
       "    </tr>\n",
       "    <tr>\n",
       "      <th>1028</th>\n",
       "      <td>Mọi hôm hay ăn bông lan trứng muối gí cả ok rấ...</td>\n",
       "      <td>8.4</td>\n",
       "    </tr>\n",
       "    <tr>\n",
       "      <th>1029</th>\n",
       "      <td>Đến quán lúc 8h tối order 2 ly mang về. Sau đó...</td>\n",
       "      <td>2.6</td>\n",
       "    </tr>\n",
       "  </tbody>\n",
       "</table>\n",
       "<p>1030 rows × 2 columns</p>\n",
       "</div>"
      ],
      "text/plain": [
       "                                                 Review  Point\n",
       "0     Quán không gian không có địa điểm ăn tại chỗ, ...    4.4\n",
       "1     mình có ord ở đây 2combo bánh mì tiêu đen + co...    2.0\n",
       "2     Đặt mỳ gà v mỳ bò về ăn, mỳ quảng ăn đ...    7.6\n",
       "3     Hôm bữa đi ăn 2 phần bún đậu có gọi thêm sữa c...    1.0\n",
       "4     Ăn tô mì cay mà thảm cảnh thật . Mì tôm việt n...    5.0\n",
       "...                                                 ...    ...\n",
       "1025  Nhân viên nhiệt tình, thân thiện, thức uống ng...   10.0\n",
       "1026  lăng mạ, chửi khách hàng. tự ý lấy hình của kh...    1.0\n",
       "1027  Dimsum không ngon, phục vụ ok. Giá cả chưa thậ...    4.8\n",
       "1028  Mọi hôm hay ăn bông lan trứng muối gí cả ok rấ...    8.4\n",
       "1029  Đến quán lúc 8h tối order 2 ly mang về. Sau đó...    2.6\n",
       "\n",
       "[1030 rows x 2 columns]"
      ]
     },
     "execution_count": 65,
     "metadata": {},
     "output_type": "execute_result"
    }
   ],
   "source": [
    "dt = pd.read_csv('small_data.csv')\n",
    "dt"
   ]
  },
  {
   "cell_type": "code",
   "execution_count": 53,
   "metadata": {},
   "outputs": [
    {
     "name": "stdout",
     "output_type": "stream",
     "text": [
      "1030\n"
     ]
    }
   ],
   "source": [
    "print(len(dt[dt['Point'] >= 6]))"
   ]
  }
 ],
 "metadata": {
  "kernelspec": {
   "display_name": ".venv",
   "language": "python",
   "name": "python3"
  },
  "language_info": {
   "codemirror_mode": {
    "name": "ipython",
    "version": 3
   },
   "file_extension": ".py",
   "mimetype": "text/x-python",
   "name": "python",
   "nbconvert_exporter": "python",
   "pygments_lexer": "ipython3",
   "version": "3.9.0"
  },
  "orig_nbformat": 4
 },
 "nbformat": 4,
 "nbformat_minor": 2
}
